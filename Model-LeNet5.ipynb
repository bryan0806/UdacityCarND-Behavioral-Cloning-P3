{
 "cells": [
  {
   "cell_type": "code",
   "execution_count": 1,
   "metadata": {
    "collapsed": false,
    "deletable": true,
    "editable": true,
    "scrolled": true
   },
   "outputs": [
    {
     "ename": "MemoryError",
     "evalue": "",
     "output_type": "error",
     "traceback": [
      "\u001b[0;31m---------------------------------------------------------------------------\u001b[0m",
      "\u001b[0;31mMemoryError\u001b[0m                               Traceback (most recent call last)",
      "\u001b[0;32m<ipython-input-1-c8c3b9f1b295>\u001b[0m in \u001b[0;36m<module>\u001b[0;34m()\u001b[0m\n\u001b[1;32m     74\u001b[0m \u001b[0;34m\u001b[0m\u001b[0m\n\u001b[1;32m     75\u001b[0m \u001b[0;34m\u001b[0m\u001b[0m\n\u001b[0;32m---> 76\u001b[0;31m \u001b[0mX_train\u001b[0m \u001b[0;34m=\u001b[0m \u001b[0mnp\u001b[0m\u001b[0;34m.\u001b[0m\u001b[0mappend\u001b[0m\u001b[0;34m(\u001b[0m\u001b[0mnormal_images\u001b[0m\u001b[0;34m,\u001b[0m\u001b[0mrecovery_2_images\u001b[0m\u001b[0;34m,\u001b[0m\u001b[0maxis\u001b[0m\u001b[0;34m=\u001b[0m\u001b[0;36m0\u001b[0m\u001b[0;34m)\u001b[0m\u001b[0;34m\u001b[0m\u001b[0m\n\u001b[0m\u001b[1;32m     77\u001b[0m \u001b[0my_train\u001b[0m \u001b[0;34m=\u001b[0m \u001b[0mnp\u001b[0m\u001b[0;34m.\u001b[0m\u001b[0mappend\u001b[0m\u001b[0;34m(\u001b[0m\u001b[0mnormal_measurements\u001b[0m\u001b[0;34m,\u001b[0m\u001b[0mrecovery_2_mesurements\u001b[0m\u001b[0;34m)\u001b[0m\u001b[0;34m\u001b[0m\u001b[0m\n\u001b[1;32m     78\u001b[0m \u001b[0;34m\u001b[0m\u001b[0m\n",
      "\u001b[0;32m/home/carnd/anaconda3/envs/carnd-term1/lib/python3.5/site-packages/numpy/lib/function_base.py\u001b[0m in \u001b[0;36mappend\u001b[0;34m(arr, values, axis)\u001b[0m\n\u001b[1;32m   4584\u001b[0m         \u001b[0mvalues\u001b[0m \u001b[0;34m=\u001b[0m \u001b[0mravel\u001b[0m\u001b[0;34m(\u001b[0m\u001b[0mvalues\u001b[0m\u001b[0;34m)\u001b[0m\u001b[0;34m\u001b[0m\u001b[0m\n\u001b[1;32m   4585\u001b[0m         \u001b[0maxis\u001b[0m \u001b[0;34m=\u001b[0m \u001b[0marr\u001b[0m\u001b[0;34m.\u001b[0m\u001b[0mndim\u001b[0m\u001b[0;34m-\u001b[0m\u001b[0;36m1\u001b[0m\u001b[0;34m\u001b[0m\u001b[0m\n\u001b[0;32m-> 4586\u001b[0;31m     \u001b[0;32mreturn\u001b[0m \u001b[0mconcatenate\u001b[0m\u001b[0;34m(\u001b[0m\u001b[0;34m(\u001b[0m\u001b[0marr\u001b[0m\u001b[0;34m,\u001b[0m \u001b[0mvalues\u001b[0m\u001b[0;34m)\u001b[0m\u001b[0;34m,\u001b[0m \u001b[0maxis\u001b[0m\u001b[0;34m=\u001b[0m\u001b[0maxis\u001b[0m\u001b[0;34m)\u001b[0m\u001b[0;34m\u001b[0m\u001b[0m\n\u001b[0m\u001b[1;32m   4587\u001b[0m \u001b[0;34m\u001b[0m\u001b[0m\n",
      "\u001b[0;31mMemoryError\u001b[0m: "
     ]
    }
   ],
   "source": [
    "import csv\n",
    "import cv2\n",
    "import numpy as np\n",
    "\n",
    "#read csv file and load it to list\n",
    "def processFolder(foldername):\n",
    "    lines=[]\n",
    "    with open(foldername +'/driving_log.csv') as csvfile:\n",
    "        reader = csv.reader(csvfile)\n",
    "        next(reader,None) #for skipping header\n",
    "        #i=0\n",
    "        for line in reader:\n",
    "            lines.append(line)\n",
    "            #print(line)\n",
    "            #i += 1\n",
    "            #if(i>20):\n",
    "             #   break\n",
    "    \n",
    "    images = []\n",
    "    measurements = []\n",
    "    #i=0\n",
    "    for line in lines:\n",
    "\n",
    "        #i += 1\n",
    "        #if(i>20):\n",
    "        #    break\n",
    "        source_path_center = line[0]\n",
    "        source_path_left = line[1]\n",
    "        source_path_right = line[2]\n",
    "        filename_center = source_path_center.split('/')[-1]\n",
    "        filename_left = source_path_left.split('/')[-1]\n",
    "        filename_right = source_path_right.split('/')[-1]\n",
    "        #print(line[3])\n",
    "        current_path_center = foldername + '/IMG/'+ filename_center\n",
    "        current_path_left = foldername + '/IMG/'+filename_left\n",
    "        current_path_right = foldername + '/IMG/'+filename_right\n",
    "        #print(current_path_left)\n",
    "        image_center = cv2.imread(current_path_center)\n",
    "        image_left = cv2.imread(current_path_left)\n",
    "        image_right = cv2.imread(current_path_right)\n",
    "        assert image_center is not None\n",
    "        #assert image_left is not None\n",
    "        #assert image_right is not None\n",
    "\n",
    "        images.append(image_center)\n",
    "        images.append(cv2.flip(image_center,1))\n",
    "        measurement_center = float(line[3])\n",
    "        measurements.append(measurement_center)\n",
    "        measurements.append(measurement_center*-1.0)\n",
    "\n",
    "        #adding left and right images\n",
    "        if(image_left is not None and image_right is not None):\n",
    "            correction = 0.35\n",
    "            measurement_left = measurement_center + correction\n",
    "            measurement_right = measurement_center - correction\n",
    "            images.append(image_left)\n",
    "            images.append(cv2.flip(image_left,1))\n",
    "            measurements.append(measurement_left)\n",
    "            measurements.append(measurement_left*-1.0)\n",
    "\n",
    "            images.append(image_right)\n",
    "            images.append(cv2.flip(image_right,1))\n",
    "            measurements.append(measurement_right)\n",
    "            measurements.append(measurement_right*-1.0)  \n",
    "        \n",
    "    \n",
    "    return images,measurements\n",
    "    \n",
    "normal_images , normal_measurements = processFolder(\"normal data 2 circle\") \n",
    "#recovery_images, recovery_measurements = processFolder(\"recovery data\")\n",
    "recovery_2_images,recovery_2_measurements = processFolder(\"recovery 2\")\n",
    "        \n",
    "\n",
    "    \n",
    "    \n",
    "X_train = np.append(normal_images,recovery_2_images,axis=0)\n",
    "y_train = np.append(normal_measurements,recovery_2_mesurements)\n",
    "\n",
    "n_num = X_train[3].shape\n",
    "\n",
    "print(\"shape\", n_num)\n",
    "    "
   ]
  },
  {
   "cell_type": "code",
   "execution_count": null,
   "metadata": {
    "collapsed": false,
    "deletable": true,
    "editable": true,
    "scrolled": true
   },
   "outputs": [],
   "source": [
    "#define network\n",
    "\n",
    "from keras.models import Sequential\n",
    "from keras.layers import Flatten, Dense, Lambda,Convolution2D,MaxPooling2D,Dropout,Cropping2D\n",
    "\n",
    "model = Sequential()\n",
    "model.add(Cropping2D(cropping=((50,20), (0,0)), input_shape=(160,320,3)))\n",
    "model.add(Lambda(lambda x:x / 255.0 - 0.5))\n",
    "model.add(Convolution2D(6,5,5,activation=\"relu\"))\n",
    "model.add(MaxPooling2D())\n",
    "model.add(Dropout(0.5))\n",
    "model.add(Convolution2D(6,5,5,activation=\"relu\"))\n",
    "model.add(MaxPooling2D())\n",
    "model.add(Dropout(0.5))\n",
    "model.add(Flatten())\n",
    "model.add(Dense(120))\n",
    "model.add(Dense(84))\n",
    "model.add(Dense(1))\n",
    "\n",
    "model.compile(loss='mse',optimizer='adam')\n",
    "model.fit(X_train,y_train,validation_split=0.2,shuffle=True,nb_epoch=5)\n",
    "\n",
    "model.save('model_recovery_2_lenet.h5')\n",
    "\n",
    "\n"
   ]
  },
  {
   "cell_type": "code",
   "execution_count": null,
   "metadata": {
    "collapsed": true,
    "deletable": true,
    "editable": true
   },
   "outputs": [],
   "source": []
  },
  {
   "cell_type": "code",
   "execution_count": null,
   "metadata": {
    "collapsed": true,
    "deletable": true,
    "editable": true
   },
   "outputs": [],
   "source": []
  }
 ],
 "metadata": {
  "kernelspec": {
   "display_name": "Python 3",
   "language": "python",
   "name": "python3"
  },
  "language_info": {
   "codemirror_mode": {
    "name": "ipython",
    "version": 3
   },
   "file_extension": ".py",
   "mimetype": "text/x-python",
   "name": "python",
   "nbconvert_exporter": "python",
   "pygments_lexer": "ipython3",
   "version": "3.5.2"
  },
  "widgets": {
   "state": {},
   "version": "1.1.2"
  }
 },
 "nbformat": 4,
 "nbformat_minor": 2
}
